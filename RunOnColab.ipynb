{
  "cells": [
    {
      "cell_type": "markdown",
      "metadata": {
        "id": "view-in-github",
        "colab_type": "text"
      },
      "source": [
        "<a href=\"https://colab.research.google.com/github/slowhandc1ap/RecomendMovie-Kmean/blob/main/RunOnColab.ipynb\" target=\"_parent\"><img src=\"https://colab.research.google.com/assets/colab-badge.svg\" alt=\"Open In Colab\"/></a>"
      ]
    },
    {
      "cell_type": "code",
      "execution_count": 1,
      "metadata": {
        "colab": {
          "base_uri": "https://localhost:8080/"
        },
        "id": "70VvxRI0GE92",
        "outputId": "5472a52c-7dc3-409e-ed07-ecd198555c49"
      },
      "outputs": [
        {
          "output_type": "stream",
          "name": "stdout",
          "text": [
            "Collecting pyngrok\n",
            "  Downloading pyngrok-7.1.6-py3-none-any.whl (22 kB)\n",
            "Requirement already satisfied: PyYAML>=5.1 in /usr/local/lib/python3.10/dist-packages (from pyngrok) (6.0.1)\n",
            "Installing collected packages: pyngrok\n",
            "Successfully installed pyngrok-7.1.6\n"
          ]
        }
      ],
      "source": [
        "!pip install pyngrok"
      ]
    },
    {
      "cell_type": "code",
      "execution_count": null,
      "metadata": {
        "id": "EWnkfcZmmoK6"
      },
      "outputs": [],
      "source": []
    },
    {
      "cell_type": "code",
      "execution_count": 2,
      "metadata": {
        "colab": {
          "base_uri": "https://localhost:8080/"
        },
        "id": "lfSoTb3rUdSi",
        "outputId": "5ec3c66c-042b-418c-ef55-d3035a675c74"
      },
      "outputs": [
        {
          "output_type": "stream",
          "name": "stdout",
          "text": [
            "Mounted at /content/drive\n"
          ]
        }
      ],
      "source": [
        "from google.colab import drive\n",
        "drive.mount('/content/drive') #ระวังเครื่องหมาย ‘ กับ ' ต่างกันนะคะ"
      ]
    },
    {
      "cell_type": "code",
      "execution_count": 3,
      "metadata": {
        "colab": {
          "base_uri": "https://localhost:8080/"
        },
        "id": "FC1FLFldUmkj",
        "outputId": "88240275-8623-4660-958f-67905acd4f53"
      },
      "outputs": [
        {
          "output_type": "stream",
          "name": "stdout",
          "text": [
            "/content/drive/MyDrive/Colab Notebooks/MovieClustering\n"
          ]
        }
      ],
      "source": [
        "cd /content/drive/MyDrive/Colab Notebooks/MovieClustering"
      ]
    },
    {
      "cell_type": "code",
      "execution_count": 4,
      "metadata": {
        "id": "9SnMp30rGRIt"
      },
      "outputs": [],
      "source": [
        "from flask import Flask\n",
        "from pyngrok import ngrok"
      ]
    },
    {
      "cell_type": "code",
      "execution_count": null,
      "metadata": {
        "id": "kyvJXNHMGijJ"
      },
      "outputs": [],
      "source": []
    },
    {
      "cell_type": "code",
      "execution_count": 5,
      "metadata": {
        "id": "mG1TsNyQG3j8"
      },
      "outputs": [],
      "source": [
        "port_no = 5000"
      ]
    },
    {
      "cell_type": "code",
      "execution_count": 6,
      "metadata": {
        "colab": {
          "base_uri": "https://localhost:8080/"
        },
        "id": "wVheiNjMG528",
        "outputId": "b17cb97e-54db-47c0-89ee-20e5df571f99"
      },
      "outputs": [
        {
          "output_type": "stream",
          "name": "stdout",
          "text": []
        },
        {
          "output_type": "stream",
          "name": "stderr",
          "text": [
            "/usr/local/lib/python3.10/dist-packages/sklearn/base.py:318: UserWarning: Trying to unpickle estimator KMeans from version 1.2.1 when using version 1.2.2. This might lead to breaking code or invalid results. Use at your own risk. For more info please refer to:\n",
            "https://scikit-learn.org/stable/model_persistence.html#security-maintainability-limitations\n",
            "  warnings.warn(\n"
          ]
        },
        {
          "output_type": "stream",
          "name": "stdout",
          "text": [
            "To acces the Gloable link please click https://265c-34-138-66-44.ngrok-free.app\n",
            " * Serving Flask app '__main__'\n",
            " * Debug mode: off\n"
          ]
        },
        {
          "output_type": "stream",
          "name": "stderr",
          "text": [
            "INFO:werkzeug:\u001b[31m\u001b[1mWARNING: This is a development server. Do not use it in a production deployment. Use a production WSGI server instead.\u001b[0m\n",
            " * Running on http://127.0.0.1:5000\n",
            "INFO:werkzeug:\u001b[33mPress CTRL+C to quit\u001b[0m\n",
            "INFO:werkzeug:127.0.0.1 - - [03/Apr/2024 08:25:07] \"GET / HTTP/1.1\" 200 -\n",
            "INFO:werkzeug:127.0.0.1 - - [03/Apr/2024 08:25:09] \"\u001b[33mGET /favicon.ico HTTP/1.1\u001b[0m\" 404 -\n"
          ]
        },
        {
          "output_type": "stream",
          "name": "stdout",
          "text": [
            "[15]\n",
            "Most similar name in the DataFrame: SexEducation\n",
            "Most similar title in the DataFrame: teenage boy sex therapist mother teams high school classmate set underground sex therapy clinic school.\n"
          ]
        },
        {
          "output_type": "stream",
          "name": "stderr",
          "text": [
            "INFO:werkzeug:127.0.0.1 - - [03/Apr/2024 08:25:28] \"POST /result HTTP/1.1\" 200 -\n",
            "INFO:werkzeug:127.0.0.1 - - [03/Apr/2024 08:25:29] \"GET /static/p37.jpg HTTP/1.1\" 200 -\n",
            "INFO:werkzeug:127.0.0.1 - - [03/Apr/2024 08:25:29] \"GET /static/p85.jpg HTTP/1.1\" 200 -\n",
            "INFO:werkzeug:127.0.0.1 - - [03/Apr/2024 08:25:29] \"GET /static/p53.jpg HTTP/1.1\" 200 -\n",
            "INFO:werkzeug:127.0.0.1 - - [03/Apr/2024 08:25:29] \"GET /static/p156.jpg HTTP/1.1\" 200 -\n",
            "INFO:werkzeug:127.0.0.1 - - [03/Apr/2024 08:25:29] \"GET /static/p59.jpg HTTP/1.1\" 200 -\n",
            "INFO:werkzeug:127.0.0.1 - - [03/Apr/2024 08:25:29] \"GET /static/p34.jpg HTTP/1.1\" 200 -\n",
            "INFO:werkzeug:127.0.0.1 - - [03/Apr/2024 08:25:29] \"GET /static/p76.jpg HTTP/1.1\" 200 -\n",
            "INFO:werkzeug:127.0.0.1 - - [03/Apr/2024 08:25:29] \"GET /static/p143.jpg HTTP/1.1\" 200 -\n",
            "INFO:werkzeug:127.0.0.1 - - [03/Apr/2024 08:25:29] \"GET /static/p50.jpg HTTP/1.1\" 200 -\n",
            "INFO:werkzeug:127.0.0.1 - - [03/Apr/2024 08:25:29] \"GET /static/p109.jpg HTTP/1.1\" 200 -\n"
          ]
        }
      ],
      "source": [
        "from flask import Flask, render_template, request\n",
        "import pandas as pd\n",
        "from joblib import load\n",
        "from sklearn.feature_extraction.text import TfidfVectorizer\n",
        "from sklearn.metrics.pairwise import cosine_similarity\n",
        "\n",
        "vectorizer = TfidfVectorizer (stop_words='english')\n",
        "tfidf_vectorizer = TfidfVectorizer()\n",
        "\n",
        "app = Flask(__name__)\n",
        "ngrok.set_auth_token(\"2WeTpnELH08ZiHbi7Ff7R0nbwAi_3mdqLF6kTjfatxwfFDdNt\")\n",
        "public_url =  ngrok.connect(port_no).public_url\n",
        "model = load(\"Sleeper.pkl\")\n",
        "\n",
        "# Load your dataset or prepare your data\n",
        "data = pd.read_csv('movieUpdate.csv')\n",
        "\n",
        "\n",
        "documents = data['title'].values.astype(\"U\")\n",
        "vectorizer = TfidfVectorizer (stop_words='english')\n",
        "X = vectorizer.fit_transform(documents)\n",
        "\n",
        "\n",
        "@app.route(\"/\", methods=['GET', 'POST'])\n",
        "def home():\n",
        "\n",
        "   return render_template('index.html')\n",
        "\n",
        "@app.route('/result', methods=['POST'])\n",
        "def result():\n",
        "    title = request.form['title']\n",
        "    vectorizer.fit(data['title'])\n",
        "    unseen_text_vectorized = vectorizer.transform([title])\n",
        "\n",
        "    # Use the model to make predictions\n",
        "    prediction = model.predict(unseen_text_vectorized)\n",
        "\n",
        "    findMovie = data[data['cluster'] == prediction[0]]\n",
        "\n",
        "    # Sort rows by 'rating' column in descending order and display only the top 10 rows\n",
        "    cluster_13_top_10 = findMovie.sort_values(by='rating', ascending=False).head(10)\n",
        "\n",
        "    cluster_13_top_10\n",
        "    print(prediction)\n",
        "\n",
        "\n",
        "\n",
        "\n",
        "    similarities = cosine_similarity(unseen_text_vectorized, X[findMovie.index])\n",
        "\n",
        "    # Find the index of the most similar title within the cluster\n",
        "    most_similar_index = similarities.argmax()\n",
        "\n",
        "    # Get the corresponding title and name from the DataFrame\n",
        "    most_similar_title = findMovie.iloc[most_similar_index]['title']\n",
        "    most_similar_name = findMovie.iloc[most_similar_index]['name']\n",
        "    row_index = data.index[data['name'] == most_similar_name]\n",
        "\n",
        "    print(\"Most similar name in the DataFrame:\", most_similar_name)\n",
        "    print(\"Most similar title in the DataFrame:\", most_similar_title)\n",
        "\n",
        "\n",
        "    # Process the prediction and prepare the data to be sent to the template\n",
        "    result_data = data[data['title'] == title]  # Assuming 'title' is the column name in your DataFrame\n",
        "    return render_template('result.html', prediction=prediction[0], result_data=cluster_13_top_10 , most_similar_name=most_similar_name, most_similar_title=most_similar_title,most_similar_index=row_index)\n",
        "    prediction\n",
        "print(f\"To acces the Gloable link please click {public_url}\")\n",
        "\n",
        "\n",
        "app.run(port=port_no)"
      ]
    },
    {
      "cell_type": "code",
      "execution_count": null,
      "metadata": {
        "colab": {
          "base_uri": "https://localhost:8080/"
        },
        "id": "RlDiR6-Zy6K0",
        "outputId": "4ee51f71-2cbf-4a4b-e5eb-aa9e6ead86e9"
      },
      "outputs": [
        {
          "name": "stderr",
          "output_type": "stream",
          "text": [
            "/usr/local/lib/python3.10/dist-packages/sklearn/base.py:318: UserWarning: Trying to unpickle estimator KMeans from version 1.2.1 when using version 1.2.2. This might lead to breaking code or invalid results. Use at your own risk. For more info please refer to:\n",
            "https://scikit-learn.org/stable/model_persistence.html#security-maintainability-limitations\n",
            "  warnings.warn(\n"
          ]
        }
      ],
      "source": [
        "model = load(\"Sleeper.pkl\")"
      ]
    },
    {
      "cell_type": "code",
      "execution_count": null,
      "metadata": {
        "colab": {
          "base_uri": "https://localhost:8080/"
        },
        "id": "j1lBq4zky8mN",
        "outputId": "bdad9b18-0f5f-4b15-a1b0-af8cc93c8bc7"
      },
      "outputs": [
        {
          "data": {
            "text/plain": [
              "array([ 2,  0,  5, 10,  9, 14,  7,  3,  6,  7,  4,  7,  0,  6,  9,  7, 13,\n",
              "        0,  8,  7,  6,  0, 13,  2,  2,  9,  0,  3,  0,  7,  5, 14,  2,  8,\n",
              "       15,  2,  2, 15,  2, 13,  9,  8, 12, 13, 11,  4,  2,  2, 13,  0, 15,\n",
              "        2, 13, 15, 13,  9,  7, 14, 14, 15,  7,  0,  5,  0,  9,  2,  7,  7,\n",
              "        7,  5,  0, 13,  5, 12, 11,  0, 15,  7,  2,  8, 10, 14, 13,  7,  7,\n",
              "       15,  3,  8,  2, 14, 10, 14,  0,  0,  4,  0, 11,  7,  7,  4,  0, 12,\n",
              "       10,  9, 14,  6,  0,  0,  0, 15,  2,  0, 12, 13,  5, 12, 10,  6,  7,\n",
              "       12, 10,  6, 12,  4,  0, 14,  2,  0,  6,  8, 10,  7, 10, 13, 11,  5,\n",
              "        8, 14, 10,  2, 10,  0, 12, 15, 12, 10, 10, 11,  3, 10,  2,  4, 11,\n",
              "        8,  8,  3, 15,  0, 10,  0,  6,  7,  0, 15, 13,  7,  2,  2,  0,  8,\n",
              "       14,  5, 14,  6,  5,  6, 12, 11, 10, 12,  2,  8,  8,  6, 11, 10,  1,\n",
              "       10,  0,  7, 13, 14,  5,  0, 12,  1,  3,  0,  2, 14], dtype=int32)"
            ]
          },
          "execution_count": 55,
          "metadata": {},
          "output_type": "execute_result"
        }
      ],
      "source": [
        "# ตัวอย่างการเข้าถึง centroids ของ KMeans\n",
        "centroids = model.cluster_centers_\n",
        "\n",
        "# ตัวอย่างการเข้าถึง labels ของ KMeans (ค่าที่แต่ละจุดถูกกำหนดให้เป็น)\n",
        "labels = model.labels_\n",
        "labels\n",
        "\n",
        "\n"
      ]
    },
    {
      "cell_type": "code",
      "execution_count": null,
      "metadata": {
        "colab": {
          "base_uri": "https://localhost:8080/"
        },
        "id": "AlZDmXjdHc1D",
        "outputId": "0e349935-82f3-45bc-84ac-2e5c0f98ff24"
      },
      "outputs": [
        {
          "name": "stdout",
          "output_type": "stream",
          "text": [
            "Predicted cluster for the unseen text: [15]\n"
          ]
        }
      ],
      "source": [
        "\n",
        "unseen_text = \"school\"\n",
        "# Transform the unseen text using the same vectorizer\n",
        "unseen_text_vectorized = vectorizer.transform([unseen_text])\n",
        "\n",
        "# Predict the cluster for the unseen text\n",
        "predicted_cluster = model.predict(unseen_text_vectorized)\n",
        "\n",
        "print(\"Predicted cluster for the unseen text:\", predicted_cluster)\n"
      ]
    },
    {
      "cell_type": "code",
      "execution_count": null,
      "metadata": {
        "id": "jqXXZoqt5KWS"
      },
      "outputs": [],
      "source": [
        "import pandas as pd\n",
        "\n",
        "# โหลดข้อมูลจากไฟล์ CSV เข้าสู่ DataFrame\n",
        "df = pd.read_csv('movieUpdate.csv')\n"
      ]
    },
    {
      "cell_type": "code",
      "execution_count": null,
      "metadata": {
        "colab": {
          "base_uri": "https://localhost:8080/",
          "height": 423
        },
        "id": "qP6jVnD05UxB",
        "outputId": "ba6fa400-04b5-4229-f346-39e782c85edc"
      },
      "outputs": [
        {
          "data": {
            "application/vnd.google.colaboratory.intrinsic+json": {
              "summary": "{\n  \"name\": \"df\",\n  \"rows\": 200,\n  \"fields\": [\n    {\n      \"column\": \"name\",\n      \"properties\": {\n        \"dtype\": \"string\",\n        \"num_unique_values\": 200,\n        \"samples\": [\n          \"IThinkYouShouldLeavewithTimRobinson\",\n          \"Mindhunter\",\n          \"OMecanismo\"\n        ],\n        \"semantic_type\": \"\",\n        \"description\": \"\"\n      }\n    },\n    {\n      \"column\": \"title\",\n      \"properties\": {\n        \"dtype\": \"string\",\n        \"num_unique_values\": 200,\n        \"samples\": [\n          \"sketch show guests spend segment driving someone point needing -- desperately wanting -- leave.\",\n          \"late 1970s, two agents broaden realm criminal science investigating psychology behind murder end getting close real-life monsters.\",\n          \"fiction series loosely inspired investigation corruption private state oil companies construction companies.\"\n        ],\n        \"semantic_type\": \"\",\n        \"description\": \"\"\n      }\n    },\n    {\n      \"column\": \"rating\",\n      \"properties\": {\n        \"dtype\": \"number\",\n        \"std\": 0.3925780909378307,\n        \"min\": 6.6,\n        \"max\": 9.3,\n        \"num_unique_values\": 23,\n        \"samples\": [\n          7.6,\n          8.2,\n          9.3\n        ],\n        \"semantic_type\": \"\",\n        \"description\": \"\"\n      }\n    },\n    {\n      \"column\": \"votes\",\n      \"properties\": {\n        \"dtype\": \"number\",\n        \"std\": 357672.54457592877,\n        \"min\": 115.0,\n        \"max\": 2859547.0,\n        \"num_unique_values\": 199,\n        \"samples\": [\n          48976.0,\n          333345.0,\n          605783.0\n        ],\n        \"semantic_type\": \"\",\n        \"description\": \"\"\n      }\n    },\n    {\n      \"column\": \"cluster\",\n      \"properties\": {\n        \"dtype\": \"number\",\n        \"std\": 4,\n        \"min\": 0,\n        \"max\": 15,\n        \"num_unique_values\": 16,\n        \"samples\": [\n          2,\n          0,\n          14\n        ],\n        \"semantic_type\": \"\",\n        \"description\": \"\"\n      }\n    }\n  ]\n}",
              "type": "dataframe",
              "variable_name": "df"
            },
            "text/html": [
              "\n",
              "  <div id=\"df-930c20df-777d-4a12-a32c-3930a8aac248\" class=\"colab-df-container\">\n",
              "    <div>\n",
              "<style scoped>\n",
              "    .dataframe tbody tr th:only-of-type {\n",
              "        vertical-align: middle;\n",
              "    }\n",
              "\n",
              "    .dataframe tbody tr th {\n",
              "        vertical-align: top;\n",
              "    }\n",
              "\n",
              "    .dataframe thead th {\n",
              "        text-align: right;\n",
              "    }\n",
              "</style>\n",
              "<table border=\"1\" class=\"dataframe\">\n",
              "  <thead>\n",
              "    <tr style=\"text-align: right;\">\n",
              "      <th></th>\n",
              "      <th>name</th>\n",
              "      <th>title</th>\n",
              "      <th>rating</th>\n",
              "      <th>votes</th>\n",
              "      <th>cluster</th>\n",
              "    </tr>\n",
              "  </thead>\n",
              "  <tbody>\n",
              "    <tr>\n",
              "      <th>0</th>\n",
              "      <td>OurPlanet</td>\n",
              "      <td>Explores unravels mystery animals migrate, sho...</td>\n",
              "      <td>9.3</td>\n",
              "      <td>50565.0</td>\n",
              "      <td>2</td>\n",
              "    </tr>\n",
              "    <tr>\n",
              "      <th>1</th>\n",
              "      <td>TheLastDance</td>\n",
              "      <td>Jordan, 1990s establish one notable dynasties ...</td>\n",
              "      <td>9.1</td>\n",
              "      <td>150856.0</td>\n",
              "      <td>0</td>\n",
              "    </tr>\n",
              "    <tr>\n",
              "      <th>2</th>\n",
              "      <td>WhenTheySeeUs</td>\n",
              "      <td>Five teens become trapped nightmare they're fa...</td>\n",
              "      <td>8.8</td>\n",
              "      <td>137212.0</td>\n",
              "      <td>5</td>\n",
              "    </tr>\n",
              "    <tr>\n",
              "      <th>3</th>\n",
              "      <td>BlackMirror</td>\n",
              "      <td>Featuring stand-alone dramas -- sharp, suspens...</td>\n",
              "      <td>8.7</td>\n",
              "      <td>636734.0</td>\n",
              "      <td>10</td>\n",
              "    </tr>\n",
              "    <tr>\n",
              "      <th>4</th>\n",
              "      <td>Narcos</td>\n",
              "      <td>chronicled look criminal exploits Colombian dr...</td>\n",
              "      <td>8.8</td>\n",
              "      <td>468160.0</td>\n",
              "      <td>9</td>\n",
              "    </tr>\n",
              "    <tr>\n",
              "      <th>...</th>\n",
              "      <td>...</td>\n",
              "      <td>...</td>\n",
              "      <td>...</td>\n",
              "      <td>...</td>\n",
              "      <td>...</td>\n",
              "    </tr>\n",
              "    <tr>\n",
              "      <th>195</th>\n",
              "      <td>Up</td>\n",
              "      <td>78-year-old travels Paradise house equipped ba...</td>\n",
              "      <td>8.3</td>\n",
              "      <td>1120600.0</td>\n",
              "      <td>1</td>\n",
              "    </tr>\n",
              "    <tr>\n",
              "      <th>196</th>\n",
              "      <td>Vertigo</td>\n",
              "      <td>former police detective juggles wrestling pers...</td>\n",
              "      <td>8.3</td>\n",
              "      <td>425588.0</td>\n",
              "      <td>3</td>\n",
              "    </tr>\n",
              "    <tr>\n",
              "      <th>197</th>\n",
              "      <td>WarforthePlanetoftheApes</td>\n",
              "      <td>apes suffer unimaginable losses, wrestles dark...</td>\n",
              "      <td>7.4</td>\n",
              "      <td>280735.0</td>\n",
              "      <td>0</td>\n",
              "    </tr>\n",
              "    <tr>\n",
              "      <th>198</th>\n",
              "      <td>WonderWoman</td>\n",
              "      <td>pilot crashes tells conflict outside world, Di...</td>\n",
              "      <td>7.3</td>\n",
              "      <td>698136.0</td>\n",
              "      <td>2</td>\n",
              "    </tr>\n",
              "    <tr>\n",
              "      <th>199</th>\n",
              "      <td>Zootopia</td>\n",
              "      <td>city anthropomorphic animals, rookie bunny cop...</td>\n",
              "      <td>8.0</td>\n",
              "      <td>543947.0</td>\n",
              "      <td>14</td>\n",
              "    </tr>\n",
              "  </tbody>\n",
              "</table>\n",
              "<p>200 rows × 5 columns</p>\n",
              "</div>\n",
              "    <div class=\"colab-df-buttons\">\n",
              "\n",
              "  <div class=\"colab-df-container\">\n",
              "    <button class=\"colab-df-convert\" onclick=\"convertToInteractive('df-930c20df-777d-4a12-a32c-3930a8aac248')\"\n",
              "            title=\"Convert this dataframe to an interactive table.\"\n",
              "            style=\"display:none;\">\n",
              "\n",
              "  <svg xmlns=\"http://www.w3.org/2000/svg\" height=\"24px\" viewBox=\"0 -960 960 960\">\n",
              "    <path d=\"M120-120v-720h720v720H120Zm60-500h600v-160H180v160Zm220 220h160v-160H400v160Zm0 220h160v-160H400v160ZM180-400h160v-160H180v160Zm440 0h160v-160H620v160ZM180-180h160v-160H180v160Zm440 0h160v-160H620v160Z\"/>\n",
              "  </svg>\n",
              "    </button>\n",
              "\n",
              "  <style>\n",
              "    .colab-df-container {\n",
              "      display:flex;\n",
              "      gap: 12px;\n",
              "    }\n",
              "\n",
              "    .colab-df-convert {\n",
              "      background-color: #E8F0FE;\n",
              "      border: none;\n",
              "      border-radius: 50%;\n",
              "      cursor: pointer;\n",
              "      display: none;\n",
              "      fill: #1967D2;\n",
              "      height: 32px;\n",
              "      padding: 0 0 0 0;\n",
              "      width: 32px;\n",
              "    }\n",
              "\n",
              "    .colab-df-convert:hover {\n",
              "      background-color: #E2EBFA;\n",
              "      box-shadow: 0px 1px 2px rgba(60, 64, 67, 0.3), 0px 1px 3px 1px rgba(60, 64, 67, 0.15);\n",
              "      fill: #174EA6;\n",
              "    }\n",
              "\n",
              "    .colab-df-buttons div {\n",
              "      margin-bottom: 4px;\n",
              "    }\n",
              "\n",
              "    [theme=dark] .colab-df-convert {\n",
              "      background-color: #3B4455;\n",
              "      fill: #D2E3FC;\n",
              "    }\n",
              "\n",
              "    [theme=dark] .colab-df-convert:hover {\n",
              "      background-color: #434B5C;\n",
              "      box-shadow: 0px 1px 3px 1px rgba(0, 0, 0, 0.15);\n",
              "      filter: drop-shadow(0px 1px 2px rgba(0, 0, 0, 0.3));\n",
              "      fill: #FFFFFF;\n",
              "    }\n",
              "  </style>\n",
              "\n",
              "    <script>\n",
              "      const buttonEl =\n",
              "        document.querySelector('#df-930c20df-777d-4a12-a32c-3930a8aac248 button.colab-df-convert');\n",
              "      buttonEl.style.display =\n",
              "        google.colab.kernel.accessAllowed ? 'block' : 'none';\n",
              "\n",
              "      async function convertToInteractive(key) {\n",
              "        const element = document.querySelector('#df-930c20df-777d-4a12-a32c-3930a8aac248');\n",
              "        const dataTable =\n",
              "          await google.colab.kernel.invokeFunction('convertToInteractive',\n",
              "                                                    [key], {});\n",
              "        if (!dataTable) return;\n",
              "\n",
              "        const docLinkHtml = 'Like what you see? Visit the ' +\n",
              "          '<a target=\"_blank\" href=https://colab.research.google.com/notebooks/data_table.ipynb>data table notebook</a>'\n",
              "          + ' to learn more about interactive tables.';\n",
              "        element.innerHTML = '';\n",
              "        dataTable['output_type'] = 'display_data';\n",
              "        await google.colab.output.renderOutput(dataTable, element);\n",
              "        const docLink = document.createElement('div');\n",
              "        docLink.innerHTML = docLinkHtml;\n",
              "        element.appendChild(docLink);\n",
              "      }\n",
              "    </script>\n",
              "  </div>\n",
              "\n",
              "\n",
              "<div id=\"df-8c425653-5c5d-4533-aebe-e1a543634af2\">\n",
              "  <button class=\"colab-df-quickchart\" onclick=\"quickchart('df-8c425653-5c5d-4533-aebe-e1a543634af2')\"\n",
              "            title=\"Suggest charts\"\n",
              "            style=\"display:none;\">\n",
              "\n",
              "<svg xmlns=\"http://www.w3.org/2000/svg\" height=\"24px\"viewBox=\"0 0 24 24\"\n",
              "     width=\"24px\">\n",
              "    <g>\n",
              "        <path d=\"M19 3H5c-1.1 0-2 .9-2 2v14c0 1.1.9 2 2 2h14c1.1 0 2-.9 2-2V5c0-1.1-.9-2-2-2zM9 17H7v-7h2v7zm4 0h-2V7h2v10zm4 0h-2v-4h2v4z\"/>\n",
              "    </g>\n",
              "</svg>\n",
              "  </button>\n",
              "\n",
              "<style>\n",
              "  .colab-df-quickchart {\n",
              "      --bg-color: #E8F0FE;\n",
              "      --fill-color: #1967D2;\n",
              "      --hover-bg-color: #E2EBFA;\n",
              "      --hover-fill-color: #174EA6;\n",
              "      --disabled-fill-color: #AAA;\n",
              "      --disabled-bg-color: #DDD;\n",
              "  }\n",
              "\n",
              "  [theme=dark] .colab-df-quickchart {\n",
              "      --bg-color: #3B4455;\n",
              "      --fill-color: #D2E3FC;\n",
              "      --hover-bg-color: #434B5C;\n",
              "      --hover-fill-color: #FFFFFF;\n",
              "      --disabled-bg-color: #3B4455;\n",
              "      --disabled-fill-color: #666;\n",
              "  }\n",
              "\n",
              "  .colab-df-quickchart {\n",
              "    background-color: var(--bg-color);\n",
              "    border: none;\n",
              "    border-radius: 50%;\n",
              "    cursor: pointer;\n",
              "    display: none;\n",
              "    fill: var(--fill-color);\n",
              "    height: 32px;\n",
              "    padding: 0;\n",
              "    width: 32px;\n",
              "  }\n",
              "\n",
              "  .colab-df-quickchart:hover {\n",
              "    background-color: var(--hover-bg-color);\n",
              "    box-shadow: 0 1px 2px rgba(60, 64, 67, 0.3), 0 1px 3px 1px rgba(60, 64, 67, 0.15);\n",
              "    fill: var(--button-hover-fill-color);\n",
              "  }\n",
              "\n",
              "  .colab-df-quickchart-complete:disabled,\n",
              "  .colab-df-quickchart-complete:disabled:hover {\n",
              "    background-color: var(--disabled-bg-color);\n",
              "    fill: var(--disabled-fill-color);\n",
              "    box-shadow: none;\n",
              "  }\n",
              "\n",
              "  .colab-df-spinner {\n",
              "    border: 2px solid var(--fill-color);\n",
              "    border-color: transparent;\n",
              "    border-bottom-color: var(--fill-color);\n",
              "    animation:\n",
              "      spin 1s steps(1) infinite;\n",
              "  }\n",
              "\n",
              "  @keyframes spin {\n",
              "    0% {\n",
              "      border-color: transparent;\n",
              "      border-bottom-color: var(--fill-color);\n",
              "      border-left-color: var(--fill-color);\n",
              "    }\n",
              "    20% {\n",
              "      border-color: transparent;\n",
              "      border-left-color: var(--fill-color);\n",
              "      border-top-color: var(--fill-color);\n",
              "    }\n",
              "    30% {\n",
              "      border-color: transparent;\n",
              "      border-left-color: var(--fill-color);\n",
              "      border-top-color: var(--fill-color);\n",
              "      border-right-color: var(--fill-color);\n",
              "    }\n",
              "    40% {\n",
              "      border-color: transparent;\n",
              "      border-right-color: var(--fill-color);\n",
              "      border-top-color: var(--fill-color);\n",
              "    }\n",
              "    60% {\n",
              "      border-color: transparent;\n",
              "      border-right-color: var(--fill-color);\n",
              "    }\n",
              "    80% {\n",
              "      border-color: transparent;\n",
              "      border-right-color: var(--fill-color);\n",
              "      border-bottom-color: var(--fill-color);\n",
              "    }\n",
              "    90% {\n",
              "      border-color: transparent;\n",
              "      border-bottom-color: var(--fill-color);\n",
              "    }\n",
              "  }\n",
              "</style>\n",
              "\n",
              "  <script>\n",
              "    async function quickchart(key) {\n",
              "      const quickchartButtonEl =\n",
              "        document.querySelector('#' + key + ' button');\n",
              "      quickchartButtonEl.disabled = true;  // To prevent multiple clicks.\n",
              "      quickchartButtonEl.classList.add('colab-df-spinner');\n",
              "      try {\n",
              "        const charts = await google.colab.kernel.invokeFunction(\n",
              "            'suggestCharts', [key], {});\n",
              "      } catch (error) {\n",
              "        console.error('Error during call to suggestCharts:', error);\n",
              "      }\n",
              "      quickchartButtonEl.classList.remove('colab-df-spinner');\n",
              "      quickchartButtonEl.classList.add('colab-df-quickchart-complete');\n",
              "    }\n",
              "    (() => {\n",
              "      let quickchartButtonEl =\n",
              "        document.querySelector('#df-8c425653-5c5d-4533-aebe-e1a543634af2 button');\n",
              "      quickchartButtonEl.style.display =\n",
              "        google.colab.kernel.accessAllowed ? 'block' : 'none';\n",
              "    })();\n",
              "  </script>\n",
              "</div>\n",
              "    </div>\n",
              "  </div>\n"
            ],
            "text/plain": [
              "                         name  \\\n",
              "0                   OurPlanet   \n",
              "1                TheLastDance   \n",
              "2               WhenTheySeeUs   \n",
              "3                 BlackMirror   \n",
              "4                      Narcos   \n",
              "..                        ...   \n",
              "195                        Up   \n",
              "196                   Vertigo   \n",
              "197  WarforthePlanetoftheApes   \n",
              "198               WonderWoman   \n",
              "199                  Zootopia   \n",
              "\n",
              "                                                 title  rating      votes  \\\n",
              "0    Explores unravels mystery animals migrate, sho...     9.3    50565.0   \n",
              "1    Jordan, 1990s establish one notable dynasties ...     9.1   150856.0   \n",
              "2    Five teens become trapped nightmare they're fa...     8.8   137212.0   \n",
              "3    Featuring stand-alone dramas -- sharp, suspens...     8.7   636734.0   \n",
              "4    chronicled look criminal exploits Colombian dr...     8.8   468160.0   \n",
              "..                                                 ...     ...        ...   \n",
              "195  78-year-old travels Paradise house equipped ba...     8.3  1120600.0   \n",
              "196  former police detective juggles wrestling pers...     8.3   425588.0   \n",
              "197  apes suffer unimaginable losses, wrestles dark...     7.4   280735.0   \n",
              "198  pilot crashes tells conflict outside world, Di...     7.3   698136.0   \n",
              "199  city anthropomorphic animals, rookie bunny cop...     8.0   543947.0   \n",
              "\n",
              "     cluster  \n",
              "0          2  \n",
              "1          0  \n",
              "2          5  \n",
              "3         10  \n",
              "4          9  \n",
              "..       ...  \n",
              "195        1  \n",
              "196        3  \n",
              "197        0  \n",
              "198        2  \n",
              "199       14  \n",
              "\n",
              "[200 rows x 5 columns]"
            ]
          },
          "execution_count": 58,
          "metadata": {},
          "output_type": "execute_result"
        }
      ],
      "source": [
        "df"
      ]
    },
    {
      "cell_type": "code",
      "execution_count": null,
      "metadata": {
        "id": "M0nxNncd5U-w"
      },
      "outputs": [],
      "source": []
    }
  ],
  "metadata": {
    "colab": {
      "provenance": [],
      "include_colab_link": true
    },
    "kernelspec": {
      "display_name": "Python 3",
      "name": "python3"
    },
    "language_info": {
      "name": "python"
    }
  },
  "nbformat": 4,
  "nbformat_minor": 0
}